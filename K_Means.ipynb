{
 "cells": [
  {
   "cell_type": "code",
   "execution_count": 16,
   "id": "b5e2f128",
   "metadata": {},
   "outputs": [],
   "source": [
    "from sklearn.cluster import KMeans, AgglomerativeClustering, DBSCAN\n",
    "from sklearn.datasets import make_moons\n",
    "from sklearn.model_selection import train_test_split\n",
    "from sklearn.metrics import f1_score, accuracy_score"
   ]
  },
  {
   "cell_type": "code",
   "execution_count": 12,
   "id": "ec3a7cc5",
   "metadata": {},
   "outputs": [],
   "source": [
    "x, y = make_moons(500, noise=.1)"
   ]
  },
  {
   "cell_type": "code",
   "execution_count": 13,
   "id": "776c32ba",
   "metadata": {},
   "outputs": [],
   "source": [
    "x_train, x_test, y_train, y_test = train_test_split(x, y, test_size=0.3, random_state=1) # 70% training and 30% test"
   ]
  },
  {
   "cell_type": "code",
   "execution_count": 22,
   "id": "a3d99a8a",
   "metadata": {},
   "outputs": [
    {
     "data": {
      "text/plain": [
       "KMeans(n_clusters=2)"
      ]
     },
     "execution_count": 22,
     "metadata": {},
     "output_type": "execute_result"
    }
   ],
   "source": [
    "K_Mean = KMeans(n_clusters = 2)\n",
    "K_Mean.fit(x_train,y_train)"
   ]
  },
  {
   "cell_type": "code",
   "execution_count": 24,
   "id": "0c280b97",
   "metadata": {},
   "outputs": [
    {
     "data": {
      "text/plain": [
       "(0.76, 0.7534246575342466)"
      ]
     },
     "execution_count": 24,
     "metadata": {},
     "output_type": "execute_result"
    }
   ],
   "source": [
    "pred = K_Mean.predict(x_test)\n",
    "accuracy_score(y_test, pred), f1_score(y_test, pred)"
   ]
  },
  {
   "cell_type": "code",
   "execution_count": null,
   "id": "3b2ff2da",
   "metadata": {},
   "outputs": [],
   "source": []
  },
  {
   "cell_type": "code",
   "execution_count": 35,
   "id": "dafc130c",
   "metadata": {},
   "outputs": [],
   "source": [
    "Hierarchy_Clustering = AgglomerativeClustering(linkage = 'single') # min\n",
    "#Hierarchy_Clustering.fit(x_train,y_train)"
   ]
  },
  {
   "cell_type": "code",
   "execution_count": 37,
   "id": "fe063db2",
   "metadata": {},
   "outputs": [],
   "source": [
    "pred = Hierarchy_Clustering.fit_predict(x_train)\n",
    "#pred\n",
    "#accuracy_score(y_test, pred), f1_score(y_test, pred)"
   ]
  },
  {
   "cell_type": "markdown",
   "id": "d4f2f874",
   "metadata": {},
   "source": [
    "https://github.com/ankechiang/Teaching/blob/main/CS361/week8-clustering_algorithms_comparison.ipynb"
   ]
  }
 ],
 "metadata": {
  "kernelspec": {
   "display_name": "Python 3 (ipykernel)",
   "language": "python",
   "name": "python3"
  },
  "language_info": {
   "codemirror_mode": {
    "name": "ipython",
    "version": 3
   },
   "file_extension": ".py",
   "mimetype": "text/x-python",
   "name": "python",
   "nbconvert_exporter": "python",
   "pygments_lexer": "ipython3",
   "version": "3.8.5"
  }
 },
 "nbformat": 4,
 "nbformat_minor": 5
}
