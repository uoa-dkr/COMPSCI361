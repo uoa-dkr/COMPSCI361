{
 "cells": [
  {
   "cell_type": "code",
   "execution_count": 5,
   "id": "86c32304",
   "metadata": {
    "scrolled": true
   },
   "outputs": [
    {
     "data": {
      "text/plain": [
       "'1.20.3'"
      ]
     },
     "execution_count": 5,
     "metadata": {},
     "output_type": "execute_result"
    }
   ],
   "source": [
    "import numpy as np\n",
    "\n",
    "np.__version__         # version"
   ]
  },
  {
   "cell_type": "code",
   "execution_count": 2,
   "id": "31c42e2e",
   "metadata": {},
   "outputs": [
    {
     "data": {
      "text/plain": [
       "array([1, 3, 4, 5])"
      ]
     },
     "execution_count": 2,
     "metadata": {},
     "output_type": "execute_result"
    }
   ],
   "source": [
    "a = [1,3,4,5]          # 1d array\n",
    "np.array(a)"
   ]
  },
  {
   "cell_type": "code",
   "execution_count": 37,
   "id": "628cd83d",
   "metadata": {},
   "outputs": [
    {
     "data": {
      "text/plain": [
       "1"
      ]
     },
     "execution_count": 37,
     "metadata": {},
     "output_type": "execute_result"
    }
   ],
   "source": [
    "np.ndim(a)"
   ]
  },
  {
   "cell_type": "code",
   "execution_count": 45,
   "id": "3fe4293d",
   "metadata": {},
   "outputs": [
    {
     "data": {
      "text/plain": [
       "(4,)"
      ]
     },
     "execution_count": 45,
     "metadata": {},
     "output_type": "execute_result"
    }
   ],
   "source": [
    "np.array(a).shape"
   ]
  },
  {
   "cell_type": "code",
   "execution_count": 239,
   "id": "418edbc4",
   "metadata": {},
   "outputs": [
    {
     "data": {
      "text/plain": [
       "4"
      ]
     },
     "execution_count": 239,
     "metadata": {},
     "output_type": "execute_result"
    }
   ],
   "source": [
    "np.array(a).size       # len(np.array(a))"
   ]
  },
  {
   "cell_type": "code",
   "execution_count": 240,
   "id": "addce715",
   "metadata": {},
   "outputs": [
    {
     "data": {
      "text/plain": [
       "dtype('int64')"
      ]
     },
     "execution_count": 240,
     "metadata": {},
     "output_type": "execute_result"
    }
   ],
   "source": [
    "np.array(a).dtype"
   ]
  },
  {
   "cell_type": "code",
   "execution_count": 56,
   "id": "1a2987da",
   "metadata": {},
   "outputs": [
    {
     "data": {
      "text/plain": [
       "5"
      ]
     },
     "execution_count": 56,
     "metadata": {},
     "output_type": "execute_result"
    }
   ],
   "source": [
    "np.array(a)[3]"
   ]
  },
  {
   "cell_type": "code",
   "execution_count": 57,
   "id": "12596593",
   "metadata": {},
   "outputs": [
    {
     "data": {
      "text/plain": [
       "array([5])"
      ]
     },
     "execution_count": 57,
     "metadata": {},
     "output_type": "execute_result"
    }
   ],
   "source": [
    "np.array(a)[[3]]"
   ]
  },
  {
   "cell_type": "code",
   "execution_count": null,
   "id": "455f0489",
   "metadata": {},
   "outputs": [],
   "source": []
  },
  {
   "cell_type": "code",
   "execution_count": null,
   "id": "a63c7b77",
   "metadata": {},
   "outputs": [],
   "source": []
  },
  {
   "cell_type": "code",
   "execution_count": 6,
   "id": "1ad7bbbf",
   "metadata": {},
   "outputs": [
    {
     "data": {
      "text/plain": [
       "array([[1, 2, 3, 4],\n",
       "       [5, 6, 7, 8]])"
      ]
     },
     "execution_count": 6,
     "metadata": {},
     "output_type": "execute_result"
    }
   ],
   "source": [
    "b = [[1,2,3,4], [5, 6, 7, 8]]      # 2d\n",
    "array2 = np.array(b)\n",
    "array2"
   ]
  },
  {
   "cell_type": "code",
   "execution_count": 59,
   "id": "f72ab5ce",
   "metadata": {},
   "outputs": [
    {
     "data": {
      "text/plain": [
       "(2, 4)"
      ]
     },
     "execution_count": 59,
     "metadata": {},
     "output_type": "execute_result"
    }
   ],
   "source": [
    "array2.shape"
   ]
  },
  {
   "cell_type": "code",
   "execution_count": 51,
   "id": "34abb8e0",
   "metadata": {},
   "outputs": [
    {
     "data": {
      "text/plain": [
       "dtype('int64')"
      ]
     },
     "execution_count": 51,
     "metadata": {},
     "output_type": "execute_result"
    }
   ],
   "source": [
    "array2.dtype"
   ]
  },
  {
   "cell_type": "code",
   "execution_count": 241,
   "id": "c40c79d4",
   "metadata": {},
   "outputs": [
    {
     "data": {
      "text/plain": [
       "2"
      ]
     },
     "execution_count": 241,
     "metadata": {},
     "output_type": "execute_result"
    }
   ],
   "source": [
    "array2[0][1]       # single num"
   ]
  },
  {
   "cell_type": "code",
   "execution_count": 242,
   "id": "203593f5",
   "metadata": {},
   "outputs": [
    {
     "data": {
      "text/plain": [
       "2"
      ]
     },
     "execution_count": 242,
     "metadata": {},
     "output_type": "execute_result"
    }
   ],
   "source": [
    "array2[0,1]        # alternative way to express"
   ]
  },
  {
   "cell_type": "code",
   "execution_count": 530,
   "id": "10863e8a",
   "metadata": {},
   "outputs": [
    {
     "data": {
      "text/plain": [
       "array([2])"
      ]
     },
     "execution_count": 530,
     "metadata": {},
     "output_type": "execute_result"
    }
   ],
   "source": [
    "array2[[0],[1]]    # array"
   ]
  },
  {
   "cell_type": "code",
   "execution_count": 243,
   "id": "88bdb190",
   "metadata": {},
   "outputs": [
    {
     "data": {
      "text/plain": [
       "array([3, 7])"
      ]
     },
     "execution_count": 243,
     "metadata": {},
     "output_type": "execute_result"
    }
   ],
   "source": [
    "array2[:,2]        # second col"
   ]
  },
  {
   "cell_type": "code",
   "execution_count": 244,
   "id": "fc52fea1",
   "metadata": {},
   "outputs": [
    {
     "data": {
      "text/plain": [
       "array([1, 2])"
      ]
     },
     "execution_count": 244,
     "metadata": {},
     "output_type": "execute_result"
    }
   ],
   "source": [
    "array2[-2,:2]      # last 2 row(1st row in here) and first 2 cols"
   ]
  },
  {
   "cell_type": "code",
   "execution_count": 471,
   "id": "85a856ab",
   "metadata": {},
   "outputs": [
    {
     "data": {
      "text/plain": [
       "array([[2, 3, 4],\n",
       "       [6, 7, 8]])"
      ]
     },
     "execution_count": 471,
     "metadata": {},
     "output_type": "execute_result"
    }
   ],
   "source": [
    "array2[[0,1],1:] # multi-slice  "
   ]
  },
  {
   "cell_type": "code",
   "execution_count": null,
   "id": "1a40005c",
   "metadata": {},
   "outputs": [],
   "source": []
  },
  {
   "cell_type": "code",
   "execution_count": null,
   "id": "0dfd9a35",
   "metadata": {},
   "outputs": [],
   "source": []
  },
  {
   "cell_type": "code",
   "execution_count": 60,
   "id": "e03d446f",
   "metadata": {},
   "outputs": [
    {
     "data": {
      "text/plain": [
       "array([0., 0., 0., 0., 0., 0., 0., 0., 0., 0.])"
      ]
     },
     "execution_count": 60,
     "metadata": {},
     "output_type": "execute_result"
    }
   ],
   "source": [
    "c = np.zeros(10)   # default datatype is float\n",
    "c"
   ]
  },
  {
   "cell_type": "code",
   "execution_count": 75,
   "id": "d68d3441",
   "metadata": {},
   "outputs": [
    {
     "data": {
      "text/plain": [
       "array([0, 0, 0, 0, 0, 0, 0, 0, 0, 0], dtype=int32)"
      ]
     },
     "execution_count": 75,
     "metadata": {},
     "output_type": "execute_result"
    }
   ],
   "source": [
    "c.dtype = np.int64               # convert type\n",
    "c = c.astype(np.int32)           # same logical\n",
    "c"
   ]
  },
  {
   "cell_type": "code",
   "execution_count": 212,
   "id": "2db3d8b8",
   "metadata": {},
   "outputs": [
    {
     "data": {
      "text/plain": [
       "array([[ True,  True,  True],\n",
       "       [ True,  True,  True]])"
      ]
     },
     "execution_count": 212,
     "metadata": {},
     "output_type": "execute_result"
    }
   ],
   "source": [
    "d = np.empty((2,3),dtype = bool)\n",
    "d"
   ]
  },
  {
   "cell_type": "code",
   "execution_count": 78,
   "id": "08b79211",
   "metadata": {},
   "outputs": [
    {
     "data": {
      "text/plain": [
       "array([[[1., 1.],\n",
       "        [1., 1.],\n",
       "        [1., 1.]],\n",
       "\n",
       "       [[1., 1.],\n",
       "        [1., 1.],\n",
       "        [1., 1.]]])"
      ]
     },
     "execution_count": 78,
     "metadata": {},
     "output_type": "execute_result"
    }
   ],
   "source": [
    "e = np.ones((2, 3, 2)) # 3d\n",
    "e"
   ]
  },
  {
   "cell_type": "code",
   "execution_count": 246,
   "id": "769fff3f",
   "metadata": {},
   "outputs": [
    {
     "data": {
      "text/plain": [
       "array([[6, 6, 6],\n",
       "       [6, 6, 6]])"
      ]
     },
     "execution_count": 246,
     "metadata": {},
     "output_type": "execute_result"
    }
   ],
   "source": [
    "e = np.full((2,3),6)  # arbitrary num\n",
    "e"
   ]
  },
  {
   "cell_type": "code",
   "execution_count": 249,
   "id": "a340bae9",
   "metadata": {},
   "outputs": [
    {
     "data": {
      "text/plain": [
       "array([[-99, -99, -99, -99],\n",
       "       [-99, -99, -99, -99]])"
      ]
     },
     "execution_count": 249,
     "metadata": {},
     "output_type": "execute_result"
    }
   ],
   "source": [
    "e = np.full_like(b, -99)   # inherit the dtype and the ndim of array b but subsititude a arbitrary num\n",
    "e                          # alternative:       np.full(b.shape,-99)"
   ]
  },
  {
   "cell_type": "code",
   "execution_count": 32,
   "id": "eaee5488",
   "metadata": {},
   "outputs": [
    {
     "data": {
      "text/plain": [
       "array([0.  , 0.25, 0.5 , 0.75, 1.  , 1.25, 1.5 , 1.75, 2.  ])"
      ]
     },
     "execution_count": 32,
     "metadata": {},
     "output_type": "execute_result"
    }
   ],
   "source": [
    "np.linspace(0,2, num = 9, endpoint = True)"
   ]
  },
  {
   "cell_type": "code",
   "execution_count": null,
   "id": "ff5029c2",
   "metadata": {},
   "outputs": [],
   "source": []
  },
  {
   "cell_type": "code",
   "execution_count": null,
   "id": "3c46d119",
   "metadata": {},
   "outputs": [],
   "source": []
  },
  {
   "cell_type": "code",
   "execution_count": 7,
   "id": "ec2c0d03",
   "metadata": {},
   "outputs": [
    {
     "data": {
      "text/plain": [
       "array([0, 1, 2, 3, 4, 5])"
      ]
     },
     "execution_count": 7,
     "metadata": {},
     "output_type": "execute_result"
    }
   ],
   "source": [
    "arr1 = np.arange(6)\n",
    "arr1"
   ]
  },
  {
   "cell_type": "code",
   "execution_count": 85,
   "id": "cdc026ff",
   "metadata": {},
   "outputs": [
    {
     "data": {
      "text/plain": [
       "array([[[ 0.5296957 ,  0.90771667],\n",
       "        [ 0.44748629,  0.22874433],\n",
       "        [-0.32814106,  0.14686456]]])"
      ]
     },
     "execution_count": 85,
     "metadata": {},
     "output_type": "execute_result"
    }
   ],
   "source": [
    "arr2 = np.random.randn(1,3,2)                  # normal distribution but cannot define m and sd\n",
    "arr2"
   ]
  },
  {
   "cell_type": "code",
   "execution_count": 23,
   "id": "80886aee",
   "metadata": {},
   "outputs": [
    {
     "data": {
      "text/plain": [
       "array([[0.06648696, 0.69015891, 0.90350701],\n",
       "       [0.58118545, 0.81752524, 0.4153491 ],\n",
       "       [0.56064353, 0.42937836, 0.26237735],\n",
       "       [0.84619948, 0.19940264, 0.95019807],\n",
       "       [0.64087526, 0.71570292, 0.13678163],\n",
       "       [0.95886054, 0.95033487, 0.68579825]])"
      ]
     },
     "execution_count": 23,
     "metadata": {},
     "output_type": "execute_result"
    }
   ],
   "source": [
    "arr3 = np.random.rand(6, 3)                    # uniform distri witin 0 to 1\n",
    "arr3"
   ]
  },
  {
   "cell_type": "code",
   "execution_count": 389,
   "id": "df39170a",
   "metadata": {},
   "outputs": [
    {
     "data": {
      "text/plain": [
       "array([[6, 7, 8],\n",
       "       [3, 4, 9]])"
      ]
     },
     "execution_count": 389,
     "metadata": {},
     "output_type": "execute_result"
    }
   ],
   "source": [
    "np.random.randint(1, 10, size = (2,3))"
   ]
  },
  {
   "cell_type": "code",
   "execution_count": 183,
   "id": "6025b0bd",
   "metadata": {},
   "outputs": [
    {
     "data": {
      "text/plain": [
       "array([[0.71986483, 0.64165925, 0.4196345 ],\n",
       "       [0.13376489, 0.34478459, 0.51020815]])"
      ]
     },
     "execution_count": 183,
     "metadata": {},
     "output_type": "execute_result"
    }
   ],
   "source": [
    "arr3[arr1>3]         # onlt last two 1d array counts"
   ]
  },
  {
   "cell_type": "code",
   "execution_count": 186,
   "id": "bb428656",
   "metadata": {},
   "outputs": [
    {
     "data": {
      "text/plain": [
       "array([[0.44788238, 0.55397311],\n",
       "       [0.64165925, 0.4196345 ],\n",
       "       [0.34478459, 0.51020815]])"
      ]
     },
     "execution_count": 186,
     "metadata": {},
     "output_type": "execute_result"
    }
   ],
   "source": [
    "arr3[~(arr1<3),1:]   # last 3 and index 1 to end"
   ]
  },
  {
   "cell_type": "code",
   "execution_count": 187,
   "id": "6b6f8c7d",
   "metadata": {},
   "outputs": [
    {
     "data": {
      "text/plain": [
       "array([[0.71986483, 0.64165925, 0.4196345 ],\n",
       "       [0.13376489, 0.34478459, 0.51020815]])"
      ]
     },
     "execution_count": 187,
     "metadata": {},
     "output_type": "execute_result"
    }
   ],
   "source": [
    "arr3[~(arr1<3)][1:]  # consider arr3[~(arr1<3)] then [1:] "
   ]
  },
  {
   "cell_type": "code",
   "execution_count": 229,
   "id": "387754ca",
   "metadata": {},
   "outputs": [
    {
     "data": {
      "text/plain": [
       "True"
      ]
     },
     "execution_count": 229,
     "metadata": {},
     "output_type": "execute_result"
    }
   ],
   "source": [
    "arr3[0,2] == arr3[0][2] # kind of tricky"
   ]
  },
  {
   "cell_type": "code",
   "execution_count": 230,
   "id": "1b28bb98",
   "metadata": {},
   "outputs": [
    {
     "data": {
      "text/plain": [
       "array([[0.78524274, 0.79315215, 0.74034795],\n",
       "       [0.85044563, 0.31156476, 0.66496629]])"
      ]
     },
     "execution_count": 230,
     "metadata": {},
     "output_type": "execute_result"
    }
   ],
   "source": [
    "arr3[[0,2]]           # row 0 and row 2"
   ]
  },
  {
   "cell_type": "code",
   "execution_count": 232,
   "id": "a4d9d9ae",
   "metadata": {},
   "outputs": [
    {
     "data": {
      "text/plain": [
       "array([0.74034795])"
      ]
     },
     "execution_count": 232,
     "metadata": {},
     "output_type": "execute_result"
    }
   ],
   "source": [
    "arr3[[0],[2]]        "
   ]
  },
  {
   "cell_type": "code",
   "execution_count": 234,
   "id": "3faa0e5d",
   "metadata": {},
   "outputs": [
    {
     "data": {
      "text/plain": [
       "array([[0.79315215, 0.74034795],\n",
       "       [0.72569087, 0.74902172],\n",
       "       [0.31156476, 0.66496629],\n",
       "       [0.44788238, 0.55397311],\n",
       "       [0.64165925, 0.4196345 ]])"
      ]
     },
     "execution_count": 234,
     "metadata": {},
     "output_type": "execute_result"
    }
   ],
   "source": [
    "arr3[:5,1:]"
   ]
  },
  {
   "cell_type": "code",
   "execution_count": null,
   "id": "d1b6bd29",
   "metadata": {},
   "outputs": [],
   "source": []
  },
  {
   "cell_type": "code",
   "execution_count": null,
   "id": "3ce9e59c",
   "metadata": {},
   "outputs": [],
   "source": []
  },
  {
   "cell_type": "markdown",
   "id": "d2833246",
   "metadata": {},
   "source": [
    "###### reshape the array\n"
   ]
  },
  {
   "cell_type": "code",
   "execution_count": 193,
   "id": "33a4fc00",
   "metadata": {},
   "outputs": [
    {
     "data": {
      "text/plain": [
       "array([[0, 1, 2],\n",
       "       [3, 4, 5]])"
      ]
     },
     "execution_count": 193,
     "metadata": {},
     "output_type": "execute_result"
    }
   ],
   "source": [
    "arr4 = arr1.reshape(2,3)   # reshape to 2d\n",
    "arr4"
   ]
  },
  {
   "cell_type": "code",
   "execution_count": 194,
   "id": "4cf57ce0",
   "metadata": {},
   "outputs": [
    {
     "data": {
      "text/plain": [
       "array([1, 5])"
      ]
     },
     "execution_count": 194,
     "metadata": {},
     "output_type": "execute_result"
    }
   ],
   "source": [
    "arr4[[0,1],[1,2]]     # extract arr4[0,1] and arr4[1,2]"
   ]
  },
  {
   "cell_type": "code",
   "execution_count": 198,
   "id": "e195e3d2",
   "metadata": {},
   "outputs": [
    {
     "data": {
      "text/plain": [
       "array([[[0],\n",
       "        [1],\n",
       "        [2]],\n",
       "\n",
       "       [[3],\n",
       "        [4],\n",
       "        [5]]])"
      ]
     },
     "execution_count": 198,
     "metadata": {},
     "output_type": "execute_result"
    }
   ],
   "source": [
    "arr4 = arr1.reshape((2,3,1))  # reshape to 3d\n",
    "arr4"
   ]
  },
  {
   "cell_type": "code",
   "execution_count": 202,
   "id": "0035cdca",
   "metadata": {},
   "outputs": [
    {
     "data": {
      "text/plain": [
       "array([[0.78524274, 0.0499921 , 0.85044563, 0.46849453, 0.71986483,\n",
       "        0.13376489],\n",
       "       [0.79315215, 0.72569087, 0.31156476, 0.44788238, 0.64165925,\n",
       "        0.34478459],\n",
       "       [0.74034795, 0.74902172, 0.66496629, 0.55397311, 0.4196345 ,\n",
       "        0.51020815]])"
      ]
     },
     "execution_count": 202,
     "metadata": {},
     "output_type": "execute_result"
    }
   ],
   "source": [
    "arr3.T    # 6,3 -> 3,6"
   ]
  },
  {
   "cell_type": "code",
   "execution_count": 203,
   "id": "468a2763",
   "metadata": {},
   "outputs": [
    {
     "data": {
      "text/plain": [
       "array([[[ 0.5296957 ],\n",
       "        [ 0.44748629],\n",
       "        [-0.32814106]],\n",
       "\n",
       "       [[ 0.90771667],\n",
       "        [ 0.22874433],\n",
       "        [ 0.14686456]]])"
      ]
     },
     "execution_count": 203,
     "metadata": {},
     "output_type": "execute_result"
    }
   ],
   "source": [
    "arr2.T     # 1,3,2 -> 2,3,1"
   ]
  },
  {
   "cell_type": "code",
   "execution_count": 474,
   "id": "1ff040d0",
   "metadata": {},
   "outputs": [
    {
     "data": {
      "text/plain": [
       "[array([[0.01451087, 0.02931286, 0.71764568],\n",
       "        [0.37320018, 0.37884991, 0.02533558]]),\n",
       " array([[0.03669962, 0.29188217, 0.33886243],\n",
       "        [0.12440897, 0.10642023, 0.92552646]]),\n",
       " array([[0.45719617, 0.22177923, 0.24981276],\n",
       "        [0.67214306, 0.61795397, 0.55988029]])]"
      ]
     },
     "execution_count": 474,
     "metadata": {},
     "output_type": "execute_result"
    }
   ],
   "source": [
    "np.split(arr3,3)   # recall that split into list"
   ]
  },
  {
   "cell_type": "code",
   "execution_count": 10,
   "id": "80250a86",
   "metadata": {},
   "outputs": [
    {
     "name": "stdout",
     "output_type": "stream",
     "text": [
      "[[0]\n",
      " [1]\n",
      " [2]\n",
      " [3]\n",
      " [4]\n",
      " [5]]\n",
      "\n",
      "[[0 1 2 3 4 5]]\n"
     ]
    }
   ],
   "source": [
    "print(arr1[:,np.newaxis], arr1[None,:], sep = '\\n\\n')    # just for curious"
   ]
  },
  {
   "cell_type": "code",
   "execution_count": null,
   "id": "0bdc2c6c",
   "metadata": {},
   "outputs": [],
   "source": []
  },
  {
   "cell_type": "code",
   "execution_count": null,
   "id": "a0ded511",
   "metadata": {},
   "outputs": [],
   "source": []
  },
  {
   "cell_type": "markdown",
   "id": "59e21a6d",
   "metadata": {},
   "source": [
    "# array stack/unstack(concatenate and split also insert and delete) and repeat/tile\n"
   ]
  },
  {
   "cell_type": "code",
   "execution_count": 207,
   "id": "762f3518",
   "metadata": {
    "scrolled": true
   },
   "outputs": [
    {
     "data": {
      "text/plain": [
       "array([[0, 1],\n",
       "       [1, 2],\n",
       "       [2, 3],\n",
       "       [3, 5]])"
      ]
     },
     "execution_count": 207,
     "metadata": {},
     "output_type": "execute_result"
    }
   ],
   "source": [
    "np.array(list(zip(arr1, np.array([1,2,3,5]))))     # stack 1d array to 2d array"
   ]
  },
  {
   "cell_type": "code",
   "execution_count": 463,
   "id": "f6df0563",
   "metadata": {},
   "outputs": [
    {
     "data": {
      "text/plain": [
       "array([[ 0,  1],\n",
       "       [10,  2],\n",
       "       [ 2,  6],\n",
       "       [ 3,  8],\n",
       "       [ 4, 13],\n",
       "       [ 5, 15]])"
      ]
     },
     "execution_count": 463,
     "metadata": {},
     "output_type": "execute_result"
    }
   ],
   "source": [
    "np.stack((arr1,np.array([1,2,6,8,13,15])),axis=1)  # same effect(axis=0 is row, 1 is col)"
   ]
  },
  {
   "cell_type": "code",
   "execution_count": 459,
   "id": "0460deae",
   "metadata": {},
   "outputs": [
    {
     "data": {
      "text/plain": [
       "array([[ 0, 10,  2,  3,  4,  5],\n",
       "       [ 1,  2,  6,  8, 13, 15]])"
      ]
     },
     "execution_count": 459,
     "metadata": {},
     "output_type": "execute_result"
    }
   ],
   "source": [
    "np.vstack((arr1,np.array([1,2,6,8,13,15])))"
   ]
  },
  {
   "cell_type": "code",
   "execution_count": 460,
   "id": "642bf52f",
   "metadata": {},
   "outputs": [
    {
     "data": {
      "text/plain": [
       "array([ 0, 10,  2,  3,  4,  5,  1,  2,  6,  8, 13, 15])"
      ]
     },
     "execution_count": 460,
     "metadata": {},
     "output_type": "execute_result"
    }
   ],
   "source": [
    "np.hstack((arr1,np.array([1,2,6,8,13,15])))"
   ]
  },
  {
   "cell_type": "code",
   "execution_count": 11,
   "id": "9d19510c",
   "metadata": {},
   "outputs": [
    {
     "data": {
      "text/plain": [
       "array([[[ 0,  1],\n",
       "        [ 1,  2],\n",
       "        [ 2,  6],\n",
       "        [ 3,  8],\n",
       "        [ 4, 13],\n",
       "        [ 5, 15]]])"
      ]
     },
     "execution_count": 11,
     "metadata": {},
     "output_type": "execute_result"
    }
   ],
   "source": [
    "np.dstack((arr1,np.array([1,2,6,8,13,15])))        # stack 1d array to 3d array"
   ]
  },
  {
   "cell_type": "code",
   "execution_count": null,
   "id": "d15f4a5b",
   "metadata": {},
   "outputs": [],
   "source": []
  },
  {
   "cell_type": "code",
   "execution_count": 17,
   "id": "02ce675e",
   "metadata": {},
   "outputs": [
    {
     "data": {
      "text/plain": [
       "['hello', 'my name is Peter', 'I am 26 years old']"
      ]
     },
     "execution_count": 17,
     "metadata": {},
     "output_type": "execute_result"
    }
   ],
   "source": [
    "txt = \"hello, my name is Peter, I am 26 years old\"\n",
    "txt.split(\", \")"
   ]
  },
  {
   "cell_type": "code",
   "execution_count": 12,
   "id": "1fa32eff",
   "metadata": {},
   "outputs": [
    {
     "name": "stdout",
     "output_type": "stream",
     "text": [
      "[1 2 3] [99 99] [3 2 1]\n"
     ]
    }
   ],
   "source": [
    "x = [1, 2, 3, 99, 99, 3, 2, 1]\n",
    "x1, x2, x3 = np.split(x, [3, 5])\n",
    "print(x1, x2, x3)"
   ]
  },
  {
   "cell_type": "code",
   "execution_count": 13,
   "id": "0e93a6b6",
   "metadata": {},
   "outputs": [
    {
     "data": {
      "text/plain": [
       "array([[ 0,  1,  2,  3],\n",
       "       [ 4,  5,  6,  7],\n",
       "       [ 8,  9, 10, 11],\n",
       "       [12, 13, 14, 15]])"
      ]
     },
     "execution_count": 13,
     "metadata": {},
     "output_type": "execute_result"
    }
   ],
   "source": [
    "grid = np.arange(16).reshape((4, 4))\n",
    "grid"
   ]
  },
  {
   "cell_type": "code",
   "execution_count": 14,
   "id": "6da2be1d",
   "metadata": {},
   "outputs": [
    {
     "name": "stdout",
     "output_type": "stream",
     "text": [
      "[[0 1 2 3]\n",
      " [4 5 6 7]]\n",
      "\n",
      "[[ 8  9 10 11]\n",
      " [12 13 14 15]]\n"
     ]
    }
   ],
   "source": [
    "upper, lower = np.vsplit(grid, [2])\n",
    "print(upper, lower, sep = '\\n\\n')"
   ]
  },
  {
   "cell_type": "code",
   "execution_count": 15,
   "id": "d0abbd87",
   "metadata": {},
   "outputs": [
    {
     "name": "stdout",
     "output_type": "stream",
     "text": [
      "[[ 0  1]\n",
      " [ 4  5]\n",
      " [ 8  9]\n",
      " [12 13]]\n",
      "\n",
      "[[ 2  3]\n",
      " [ 6  7]\n",
      " [10 11]\n",
      " [14 15]]\n"
     ]
    }
   ],
   "source": [
    "left, right = np.hsplit(grid, [2])\n",
    "print(left,right,sep='\\n\\n')"
   ]
  },
  {
   "cell_type": "code",
   "execution_count": null,
   "id": "272496f7",
   "metadata": {},
   "outputs": [],
   "source": []
  },
  {
   "cell_type": "code",
   "execution_count": 21,
   "id": "058d8b6f",
   "metadata": {},
   "outputs": [
    {
     "name": "stdout",
     "output_type": "stream",
     "text": [
      "[[1.]\n",
      " [1.]\n",
      " [1.]\n",
      " [1.]\n",
      " [1.]\n",
      " [1.]\n",
      " [0.]\n",
      " [0.]\n",
      " [0.]\n",
      " [0.]\n",
      " [0.]\n",
      " [0.]]\n",
      "\n",
      "[[1. 0.]\n",
      " [1. 0.]\n",
      " [1. 0.]\n",
      " [1. 0.]\n",
      " [1. 0.]\n",
      " [1. 0.]]\n"
     ]
    }
   ],
   "source": [
    "print(np.concatenate([np.ones((6,1)),np.zeros((6,1))],axis=0),\n",
    "     np.concatenate([np.ones((6,1)),np.zeros((6,1))],axis=1), sep='\\n\\n')   # 2d array or higher could apply axis=1"
   ]
  },
  {
   "cell_type": "code",
   "execution_count": 19,
   "id": "77a20f49",
   "metadata": {},
   "outputs": [
    {
     "data": {
      "text/plain": [
       "array([1., 1., 1., 1., 1., 1., 0., 0., 0., 0., 0., 0.])"
      ]
     },
     "execution_count": 19,
     "metadata": {},
     "output_type": "execute_result"
    }
   ],
   "source": [
    "np.concatenate([np.ones(6),np.zeros(6)],axis=0)   # recall that 1d array only has one axis = 0"
   ]
  },
  {
   "cell_type": "code",
   "execution_count": 25,
   "id": "9d9fd664",
   "metadata": {},
   "outputs": [
    {
     "name": "stdout",
     "output_type": "stream",
     "text": [
      "[[0.06648696 0.69015891 0.90350701]\n",
      " [0.58118545 0.81752524 0.4153491 ]\n",
      " [0.56064353 0.42937836 0.26237735]\n",
      " [0.84619948 0.19940264 0.95019807]\n",
      " [0.64087526 0.71570292 0.13678163]\n",
      " [0.95886054 0.95033487 0.68579825]]\n",
      "\n",
      "[[0.06648696 0.69015891]\n",
      " [0.58118545 0.81752524]\n",
      " [0.56064353 0.42937836]\n",
      " [0.84619948 0.19940264]\n",
      " [0.64087526 0.71570292]\n",
      " [0.95886054 0.95033487]]\n",
      "\n",
      "[[0.06648696 0.69015891 0.90350701]\n",
      " [0.58118545 0.81752524 0.4153491 ]\n",
      " [0.84619948 0.19940264 0.95019807]\n",
      " [0.64087526 0.71570292 0.13678163]\n",
      " [0.95886054 0.95033487 0.68579825]]\n"
     ]
    }
   ],
   "source": [
    "print(arr3, np.delete(arr3,2,axis=1), np.delete(arr3,2,axis=0), sep = '\\n\\n')                 # delete col 2 and row 2"
   ]
  },
  {
   "cell_type": "code",
   "execution_count": 493,
   "id": "0f709b26",
   "metadata": {},
   "outputs": [
    {
     "data": {
      "text/plain": [
       "array([[ 0.01451087,  0.02931286,  0.71764568],\n",
       "       [ 0.37320018,  0.37884991,  0.02533558],\n",
       "       [ 0.03669962,  0.29188217,  0.33886243],\n",
       "       [ 0.        , 10.        ,  2.        ],\n",
       "       [ 0.12440897,  0.10642023,  0.92552646],\n",
       "       [ 0.45719617,  0.22177923,  0.24981276],\n",
       "       [ 0.67214306,  0.61795397,  0.55988029]])"
      ]
     },
     "execution_count": 493,
     "metadata": {},
     "output_type": "execute_result"
    }
   ],
   "source": [
    "np.insert(arr3,3,arr1[:3],axis=0) "
   ]
  },
  {
   "cell_type": "code",
   "execution_count": 27,
   "id": "f6022bf6",
   "metadata": {},
   "outputs": [
    {
     "name": "stdout",
     "output_type": "stream",
     "text": [
      "[[0.06648696 0.69015891 0.90350701]\n",
      " [0.58118545 0.81752524 0.4153491 ]\n",
      " [0.56064353 0.42937836 0.26237735]\n",
      " [0.84619948 0.19940264 0.95019807]\n",
      " [0.64087526 0.71570292 0.13678163]\n",
      " [0.95886054 0.95033487 0.68579825]]\n",
      "\n",
      "[[0.06648696 0.06648696 0.69015891 0.69015891 0.90350701 0.90350701]\n",
      " [0.58118545 0.58118545 0.81752524 0.81752524 0.4153491  0.4153491 ]\n",
      " [0.56064353 0.56064353 0.42937836 0.42937836 0.26237735 0.26237735]\n",
      " [0.84619948 0.84619948 0.19940264 0.19940264 0.95019807 0.95019807]\n",
      " [0.64087526 0.64087526 0.71570292 0.71570292 0.13678163 0.13678163]\n",
      " [0.95886054 0.95886054 0.95033487 0.95033487 0.68579825 0.68579825]]\n",
      "\n",
      "[[0.06648696 0.69015891 0.90350701]\n",
      " [0.06648696 0.69015891 0.90350701]\n",
      " [0.58118545 0.81752524 0.4153491 ]\n",
      " [0.58118545 0.81752524 0.4153491 ]\n",
      " [0.56064353 0.42937836 0.26237735]\n",
      " [0.56064353 0.42937836 0.26237735]\n",
      " [0.84619948 0.19940264 0.95019807]\n",
      " [0.84619948 0.19940264 0.95019807]\n",
      " [0.64087526 0.71570292 0.13678163]\n",
      " [0.64087526 0.71570292 0.13678163]\n",
      " [0.95886054 0.95033487 0.68579825]\n",
      " [0.95886054 0.95033487 0.68579825]]\n"
     ]
    }
   ],
   "source": [
    "print(arr3)\n",
    "print()\n",
    "print(np.repeat(arr3,2, axis = 1))\n",
    "print()\n",
    "print(np.repeat(arr3,2, axis = 0))"
   ]
  },
  {
   "cell_type": "code",
   "execution_count": 28,
   "id": "e1666a1c",
   "metadata": {},
   "outputs": [
    {
     "data": {
      "text/plain": [
       "array([0, 0, 0, 1, 1, 1, 2, 2, 2, 3, 3, 3, 4, 4, 4, 5, 5, 5])"
      ]
     },
     "execution_count": 28,
     "metadata": {},
     "output_type": "execute_result"
    }
   ],
   "source": [
    "np.repeat(arr1,3, axis = 0)"
   ]
  },
  {
   "cell_type": "code",
   "execution_count": 29,
   "id": "3ee668db",
   "metadata": {},
   "outputs": [
    {
     "data": {
      "text/plain": [
       "array([0, 1, 2, 3, 4, 5, 0, 1, 2, 3, 4, 5])"
      ]
     },
     "execution_count": 29,
     "metadata": {},
     "output_type": "execute_result"
    }
   ],
   "source": [
    "np.tile(arr1,2)"
   ]
  },
  {
   "cell_type": "code",
   "execution_count": null,
   "id": "a08e3f66",
   "metadata": {},
   "outputs": [],
   "source": []
  },
  {
   "cell_type": "markdown",
   "id": "7a04090d",
   "metadata": {},
   "source": [
    "## arithmetic and stats"
   ]
  },
  {
   "cell_type": "code",
   "execution_count": 441,
   "id": "0f68a932",
   "metadata": {},
   "outputs": [
    {
     "data": {
      "text/plain": [
       "array([0.73545742, 1.62733456, 2.75500279, 3.62367065, 4.07221653,\n",
       "       5.5047742 ])"
      ]
     },
     "execution_count": 441,
     "metadata": {},
     "output_type": "execute_result"
    }
   ],
   "source": [
    "np.add(np.arange(6),np.random.rand(6))         # a+b"
   ]
  },
  {
   "cell_type": "code",
   "execution_count": 442,
   "id": "7d4b5c27",
   "metadata": {},
   "outputs": [
    {
     "data": {
      "text/plain": [
       "array([-0.78652532,  0.98911879,  1.06436104,  2.40962858,  3.70306156,\n",
       "        4.48169635])"
      ]
     },
     "execution_count": 442,
     "metadata": {},
     "output_type": "execute_result"
    }
   ],
   "source": [
    "np.subtract(np.arange(6),np.random.rand(6))    # a-b"
   ]
  },
  {
   "cell_type": "code",
   "execution_count": 34,
   "id": "5e146bcc",
   "metadata": {},
   "outputs": [
    {
     "name": "stdout",
     "output_type": "stream",
     "text": [
      "[  1.           2.71828183   7.3890561   20.08553692  54.59815003\n",
      " 148.4131591 ]\n",
      "\n",
      "[ 1.  2.  4.  8. 16. 32.]\n",
      "\n",
      "[   1    5   25  125  625 3125]\n"
     ]
    }
   ],
   "source": [
    "print(np.exp(arr1), np.exp2(arr1), np.power(5,arr1), sep='\\n\\n')"
   ]
  },
  {
   "cell_type": "code",
   "execution_count": 38,
   "id": "f6ef7819",
   "metadata": {},
   "outputs": [
    {
     "name": "stdout",
     "output_type": "stream",
     "text": [
      "[0.         0.69314718 1.09861229 1.38629436 1.60943791]\n",
      "\n",
      "[0.         1.         1.5849625  2.         2.32192809]\n",
      "\n",
      "[0.         0.30103    0.47712125 0.60205999 0.69897   ]\n",
      "\n",
      "[1.5849625  1.26185951 1.16096405 1.11328275 1.08603313]\n"
     ]
    }
   ],
   "source": [
    "print(np.log(arr1[1:]), np.log2(arr1[1:]), np.log10(arr1[1:]), \n",
    "      np.log10(arr1[1:] + 2) / np.log10(arr1[1:]+1), sep='\\n\\n')"
   ]
  },
  {
   "cell_type": "code",
   "execution_count": 41,
   "id": "252573c0",
   "metadata": {},
   "outputs": [
    {
     "name": "stdout",
     "output_type": "stream",
     "text": [
      "[ 5  6  7  8  9 10]\n",
      "\n",
      "[[ 0  1  2  3  4  5]\n",
      " [ 1  2  3  4  5  6]\n",
      " [ 2  3  4  5  6  7]\n",
      " [ 3  4  5  6  7  8]\n",
      " [ 4  5  6  7  8  9]\n",
      " [ 5  6  7  8  9 10]]\n",
      "\n",
      "[[1. 2. 3. 4. 5. 6.]\n",
      " [1. 2. 3. 4. 5. 6.]\n",
      " [1. 2. 3. 4. 5. 6.]\n",
      " [1. 2. 3. 4. 5. 6.]\n",
      " [1. 2. 3. 4. 5. 6.]\n",
      " [1. 2. 3. 4. 5. 6.]]\n"
     ]
    }
   ],
   "source": [
    "print(arr1 + 5, arr1 + arr1[:,np.newaxis], arr1 + np.ones((6,6)), sep='\\n\\n')   # recycling rule"
   ]
  },
  {
   "cell_type": "code",
   "execution_count": null,
   "id": "a31ead9f",
   "metadata": {},
   "outputs": [],
   "source": []
  },
  {
   "cell_type": "code",
   "execution_count": null,
   "id": "5750adf3",
   "metadata": {},
   "outputs": [],
   "source": []
  },
  {
   "cell_type": "code",
   "execution_count": 454,
   "id": "3d8c9636",
   "metadata": {},
   "outputs": [
    {
     "name": "stdout",
     "output_type": "stream",
     "text": [
      "[[0.01451087 0.02931286 0.71764568]\n",
      " [0.37320018 0.37884991 0.02533558]\n",
      " [0.03669962 0.29188217 0.33886243]\n",
      " [0.12440897 0.10642023 0.92552646]\n",
      " [0.45719617 0.22177923 0.24981276]\n",
      " [0.67214306 0.61795397 0.55988029]]\n",
      "\n",
      "0.014510870023278222\n",
      "\n",
      "[0.76146942 0.77738566 0.66744422 1.15635566 0.92878816 1.84997732]\n",
      "\n",
      "[1.67815887 1.64619837 2.8170632 ]\n"
     ]
    }
   ],
   "source": [
    "print(arr3)\n",
    "print()\n",
    "print(np.min(arr3))\n",
    "print()                                # min num across whole array\n",
    "print(np.sum(arr3,axis=1))             # sum each row\n",
    "print(f'\\n{np.sum(arr3,axis=0)}')      # sum each col"
   ]
  },
  {
   "cell_type": "code",
   "execution_count": null,
   "id": "ec9cc197",
   "metadata": {},
   "outputs": [],
   "source": []
  },
  {
   "cell_type": "code",
   "execution_count": 513,
   "id": "4a5ea1df",
   "metadata": {},
   "outputs": [
    {
     "name": "stdout",
     "output_type": "stream",
     "text": [
      "[[4 7 1]\n",
      " [1 2 5]]\n",
      "[[11 14 13]\n",
      " [ 1 13 19]]\n",
      "(array([1]), array([0]))\n"
     ]
    }
   ],
   "source": [
    "rand1 = np.array(np.random.randint(1,10,(2,3)))\n",
    "rand2 = np.array(np.random.randint(1,20,(2,3)))\n",
    "\n",
    "print(rand1,rand2,sep='\\n')\n",
    "print(np.where(rand1 == rand2))"
   ]
  },
  {
   "cell_type": "code",
   "execution_count": 521,
   "id": "023a1d7c",
   "metadata": {},
   "outputs": [
    {
     "data": {
      "text/plain": [
       "array([[4, 7, 1, 4, 7, 1],\n",
       "       [1, 2, 5, 1, 2, 5]])"
      ]
     },
     "execution_count": 521,
     "metadata": {},
     "output_type": "execute_result"
    }
   ],
   "source": [
    "np.tile(rand1,2)"
   ]
  },
  {
   "cell_type": "code",
   "execution_count": 525,
   "id": "6c16592e",
   "metadata": {},
   "outputs": [
    {
     "data": {
      "text/plain": [
       "array([[4, 4, 7, 7, 1, 1],\n",
       "       [1, 1, 2, 2, 5, 5]])"
      ]
     },
     "execution_count": 525,
     "metadata": {},
     "output_type": "execute_result"
    }
   ],
   "source": [
    "np.repeat(rand1,2,axis=1)"
   ]
  },
  {
   "cell_type": "code",
   "execution_count": null,
   "id": "09fbda1c",
   "metadata": {},
   "outputs": [],
   "source": []
  },
  {
   "cell_type": "code",
   "execution_count": null,
   "id": "bff51919",
   "metadata": {},
   "outputs": [],
   "source": []
  },
  {
   "cell_type": "code",
   "execution_count": null,
   "id": "01390959",
   "metadata": {},
   "outputs": [],
   "source": []
  },
  {
   "cell_type": "code",
   "execution_count": null,
   "id": "68c222f2",
   "metadata": {},
   "outputs": [],
   "source": []
  },
  {
   "cell_type": "code",
   "execution_count": null,
   "id": "9c117baf",
   "metadata": {},
   "outputs": [],
   "source": []
  },
  {
   "cell_type": "code",
   "execution_count": null,
   "id": "1a274438",
   "metadata": {},
   "outputs": [],
   "source": []
  },
  {
   "cell_type": "code",
   "execution_count": null,
   "id": "f361a114",
   "metadata": {},
   "outputs": [],
   "source": []
  },
  {
   "cell_type": "code",
   "execution_count": null,
   "id": "1f231926",
   "metadata": {},
   "outputs": [],
   "source": []
  },
  {
   "cell_type": "code",
   "execution_count": null,
   "id": "181a0df0",
   "metadata": {},
   "outputs": [],
   "source": []
  },
  {
   "cell_type": "code",
   "execution_count": 235,
   "id": "09bf20ec",
   "metadata": {},
   "outputs": [
    {
     "data": {
      "text/plain": [
       "array([[1, 2, 3, 4],\n",
       "       [5, 6, 7, 8]])"
      ]
     },
     "execution_count": 235,
     "metadata": {},
     "output_type": "execute_result"
    }
   ],
   "source": [
    "c = [{1,2,3,4},set(np.arange(4,9))]\n",
    "np.array(b)"
   ]
  }
 ],
 "metadata": {
  "kernelspec": {
   "display_name": "Python 3 (ipykernel)",
   "language": "python",
   "name": "python3"
  },
  "language_info": {
   "codemirror_mode": {
    "name": "ipython",
    "version": 3
   },
   "file_extension": ".py",
   "mimetype": "text/x-python",
   "name": "python",
   "nbconvert_exporter": "python",
   "pygments_lexer": "ipython3",
   "version": "3.9.7"
  }
 },
 "nbformat": 4,
 "nbformat_minor": 5
}
